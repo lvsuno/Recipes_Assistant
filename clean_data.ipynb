{
 "cells": [
  {
   "cell_type": "code",
   "execution_count": 1,
   "metadata": {},
   "outputs": [],
   "source": [
    "import pandas as pd\n",
    "import ast\n",
    "import numpy as np"
   ]
  },
  {
   "cell_type": "markdown",
   "metadata": {},
   "source": [
    "## Ingestion"
   ]
  },
  {
   "cell_type": "code",
   "execution_count": 2,
   "metadata": {},
   "outputs": [],
   "source": [
    "df = pd.read_csv('./data/data.csv')"
   ]
  },
  {
   "cell_type": "markdown",
   "metadata": {},
   "source": [
    "## Select empty Ingredients"
   ]
  },
  {
   "cell_type": "code",
   "execution_count": 3,
   "metadata": {},
   "outputs": [],
   "source": [
    "def check_empty (dat : str):\n",
    "    ingr_list = ast.literal_eval(dat)\n",
    "    if not ingr_list:\n",
    "        return np.NaN\n",
    "    else:\n",
    "        return dat"
   ]
  },
  {
   "cell_type": "code",
   "execution_count": 4,
   "metadata": {},
   "outputs": [],
   "source": [
    "df['Ingredients'] = df['Ingredients'].apply(check_empty)\n",
    "df['Cleaned_Ingredients'] = df['Cleaned_Ingredients'].apply(check_empty)"
   ]
  },
  {
   "cell_type": "code",
   "execution_count": 5,
   "metadata": {},
   "outputs": [
    {
     "data": {
      "text/plain": [
       "5"
      ]
     },
     "execution_count": 5,
     "metadata": {},
     "output_type": "execute_result"
    }
   ],
   "source": [
    "df['Title'].isna().sum()"
   ]
  },
  {
   "cell_type": "code",
   "execution_count": 6,
   "metadata": {},
   "outputs": [
    {
     "data": {
      "text/plain": [
       "12"
      ]
     },
     "execution_count": 6,
     "metadata": {},
     "output_type": "execute_result"
    }
   ],
   "source": [
    "df['Ingredients'].isna().sum()"
   ]
  },
  {
   "cell_type": "code",
   "execution_count": 7,
   "metadata": {},
   "outputs": [],
   "source": [
    "df.loc[df['Ingredients'].isna(), 'Cleaned_Ingredients'] = np.NaN"
   ]
  },
  {
   "cell_type": "code",
   "execution_count": 8,
   "metadata": {},
   "outputs": [
    {
     "data": {
      "text/plain": [
       "12"
      ]
     },
     "execution_count": 8,
     "metadata": {},
     "output_type": "execute_result"
    }
   ],
   "source": [
    "df['Cleaned_Ingredients'].isna().sum()"
   ]
  },
  {
   "cell_type": "code",
   "execution_count": 9,
   "metadata": {},
   "outputs": [
    {
     "data": {
      "text/plain": [
       "8"
      ]
     },
     "execution_count": 9,
     "metadata": {},
     "output_type": "execute_result"
    }
   ],
   "source": [
    "df['Instructions'].isna().sum()"
   ]
  },
  {
   "cell_type": "code",
   "execution_count": 10,
   "metadata": {},
   "outputs": [
    {
     "data": {
      "text/plain": [
       "Id                                                                  5699\n",
       "Title                                    To Form \"Water Caltrop\" Wontons\n",
       "Ingredients                                                          NaN\n",
       "Instructions           If you are right-handed, lay a wonton wrapper ...\n",
       "Image_Name                        to-form-water-caltrop-wontons-51147800\n",
       "Cleaned_Ingredients                                                  NaN\n",
       "Name: 5699, dtype: object"
      ]
     },
     "execution_count": 10,
     "metadata": {},
     "output_type": "execute_result"
    }
   ],
   "source": [
    "df.iloc[5699]"
   ]
  },
  {
   "cell_type": "code",
   "execution_count": 11,
   "metadata": {},
   "outputs": [
    {
     "name": "stdout",
     "output_type": "stream",
     "text": [
      "<class 'pandas.core.frame.DataFrame'>\n",
      "RangeIndex: 13501 entries, 0 to 13500\n",
      "Data columns (total 6 columns):\n",
      " #   Column               Non-Null Count  Dtype \n",
      "---  ------               --------------  ----- \n",
      " 0   Id                   13501 non-null  int64 \n",
      " 1   Title                13496 non-null  object\n",
      " 2   Ingredients          13489 non-null  object\n",
      " 3   Instructions         13493 non-null  object\n",
      " 4   Image_Name           13501 non-null  object\n",
      " 5   Cleaned_Ingredients  13489 non-null  object\n",
      "dtypes: int64(1), object(5)\n",
      "memory usage: 633.0+ KB\n"
     ]
    }
   ],
   "source": [
    "df.info()"
   ]
  },
  {
   "cell_type": "code",
   "execution_count": 12,
   "metadata": {},
   "outputs": [],
   "source": [
    "documents = df.to_dict(orient='records')"
   ]
  },
  {
   "cell_type": "code",
   "execution_count": 13,
   "metadata": {},
   "outputs": [
    {
     "data": {
      "text/plain": [
       "{'Id': 0,\n",
       " 'Title': 'Miso-Butter Roast Chicken With Acorn Squash Panzanella',\n",
       " 'Ingredients': '[\\'1 (3½–4-lb.) whole chicken\\', \\'2¾ tsp. kosher salt, divided, plus more\\', \\'2 small acorn squash (about 3 lb. total)\\', \\'2 Tbsp. finely chopped sage\\', \\'1 Tbsp. finely chopped rosemary\\', \\'6 Tbsp. unsalted butter, melted, plus 3 Tbsp. room temperature\\', \\'¼ tsp. ground allspice\\', \\'Pinch of crushed red pepper flakes\\', \\'Freshly ground black pepper\\', \\'⅓ loaf good-quality sturdy white bread, torn into 1\" pieces (about 2½ cups)\\', \\'2 medium apples (such as Gala or Pink Lady; about 14 oz. total), cored, cut into 1\" pieces\\', \\'2 Tbsp. extra-virgin olive oil\\', \\'½ small red onion, thinly sliced\\', \\'3 Tbsp. apple cider vinegar\\', \\'1 Tbsp. white miso\\', \\'¼ cup all-purpose flour\\', \\'2 Tbsp. unsalted butter, room temperature\\', \\'¼ cup dry white wine\\', \\'2 cups unsalted chicken broth\\', \\'2 tsp. white miso\\', \\'Kosher salt, freshly ground pepper\\']',\n",
       " 'Instructions': 'Pat chicken dry with paper towels, season all over with 2 tsp. salt, and tie legs together with kitchen twine. Let sit at room temperature 1 hour.\\nMeanwhile, halve squash and scoop out seeds. Run a vegetable peeler along ridges of squash halves to remove skin. Cut each half into ½\"-thick wedges; arrange on a rimmed baking sheet.\\nCombine sage, rosemary, and 6 Tbsp. melted butter in a large bowl; pour half of mixture over squash on baking sheet. Sprinkle squash with allspice, red pepper flakes, and ½ tsp. salt and season with black pepper; toss to coat.\\nAdd bread, apples, oil, and ¼ tsp. salt to remaining herb butter in bowl; season with black pepper and toss to combine. Set aside.\\nPlace onion and vinegar in a small bowl; season with salt and toss to coat. Let sit, tossing occasionally, until ready to serve.\\nPlace a rack in middle and lower third of oven; preheat to 425°F. Mix miso and 3 Tbsp. room-temperature butter in a small bowl until smooth. Pat chicken dry with paper towels, then rub or brush all over with miso butter. Place chicken in a large cast-iron skillet and roast on middle rack until an instant-read thermometer inserted into the thickest part of breast registers 155°F, 50–60 minutes. (Temperature will climb to 165°F while chicken rests.) Let chicken rest in skillet at least 5 minutes, then transfer to a plate; reserve skillet.\\nMeanwhile, roast squash on lower rack until mostly tender, about 25 minutes. Remove from oven and scatter reserved bread mixture over, spreading into as even a layer as you can manage. Return to oven and roast until bread is golden brown and crisp and apples are tender, about 15 minutes. Remove from oven, drain pickled onions, and toss to combine. Transfer to a serving dish.\\nUsing your fingers, mash flour and butter in a small bowl to combine.\\nSet reserved skillet with chicken drippings over medium heat. You should have about ¼ cup, but a little over or under is all good. (If you have significantly more, drain off and set excess aside.) Add wine and cook, stirring often and scraping up any browned bits with a wooden spoon, until bits are loosened and wine is reduced by about half (you should be able to smell the wine), about 2 minutes. Add butter mixture; cook, stirring often, until a smooth paste forms, about 2 minutes. Add broth and any reserved drippings and cook, stirring constantly, until combined and thickened, 6–8 minutes. Remove from heat and stir in miso. Taste and season with salt and black pepper.\\nServe chicken with gravy and squash panzanella alongside.',\n",
       " 'Image_Name': 'miso-butter-roast-chicken-acorn-squash-panzanella',\n",
       " 'Cleaned_Ingredients': '[\\'1 (3½–4-lb.) whole chicken\\', \\'2¾ tsp. kosher salt, divided, plus more\\', \\'2 small acorn squash (about 3 lb. total)\\', \\'2 Tbsp. finely chopped sage\\', \\'1 Tbsp. finely chopped rosemary\\', \\'6 Tbsp. unsalted butter, melted, plus 3 Tbsp. room temperature\\', \\'¼ tsp. ground allspice\\', \\'Pinch of crushed red pepper flakes\\', \\'Freshly ground black pepper\\', \\'⅓ loaf good-quality sturdy white bread, torn into 1\" pieces (about 2½ cups)\\', \\'2 medium apples (such as Gala or Pink Lady; about 14 oz. total), cored, cut into 1\" pieces\\', \\'2 Tbsp. extra-virgin olive oil\\', \\'½ small red onion, thinly sliced\\', \\'3 Tbsp. apple cider vinegar\\', \\'1 Tbsp. white miso\\', \\'¼ cup all-purpose flour\\', \\'2 Tbsp. unsalted butter, room temperature\\', \\'¼ cup dry white wine\\', \\'2 cups unsalted chicken broth\\', \\'2 tsp. white miso\\', \\'Kosher salt\\', \\'freshly ground pepper\\']'}"
      ]
     },
     "execution_count": 13,
     "metadata": {},
     "output_type": "execute_result"
    }
   ],
   "source": [
    "documents[0]"
   ]
  },
  {
   "cell_type": "code",
   "execution_count": 14,
   "metadata": {},
   "outputs": [
    {
     "data": {
      "text/plain": [
       "'Pat chicken dry with paper towels, season all over with 2 tsp. salt, and tie legs together with kitchen twine. Let sit at room temperature 1 hour.\\nMeanwhile, halve squash and scoop out seeds. Run a vegetable peeler along ridges of squash halves to remove skin. Cut each half into ½\"-thick wedges; arrange on a rimmed baking sheet.\\nCombine sage, rosemary, and 6 Tbsp. melted butter in a large bowl; pour half of mixture over squash on baking sheet. Sprinkle squash with allspice, red pepper flakes, and ½ tsp. salt and season with black pepper; toss to coat.\\nAdd bread, apples, oil, and ¼ tsp. salt to remaining herb butter in bowl; season with black pepper and toss to combine. Set aside.\\nPlace onion and vinegar in a small bowl; season with salt and toss to coat. Let sit, tossing occasionally, until ready to serve.\\nPlace a rack in middle and lower third of oven; preheat to 425°F. Mix miso and 3 Tbsp. room-temperature butter in a small bowl until smooth. Pat chicken dry with paper towels, then rub or brush all over with miso butter. Place chicken in a large cast-iron skillet and roast on middle rack until an instant-read thermometer inserted into the thickest part of breast registers 155°F, 50–60 minutes. (Temperature will climb to 165°F while chicken rests.) Let chicken rest in skillet at least 5 minutes, then transfer to a plate; reserve skillet.\\nMeanwhile, roast squash on lower rack until mostly tender, about 25 minutes. Remove from oven and scatter reserved bread mixture over, spreading into as even a layer as you can manage. Return to oven and roast until bread is golden brown and crisp and apples are tender, about 15 minutes. Remove from oven, drain pickled onions, and toss to combine. Transfer to a serving dish.\\nUsing your fingers, mash flour and butter in a small bowl to combine.\\nSet reserved skillet with chicken drippings over medium heat. You should have about ¼ cup, but a little over or under is all good. (If you have significantly more, drain off and set excess aside.) Add wine and cook, stirring often and scraping up any browned bits with a wooden spoon, until bits are loosened and wine is reduced by about half (you should be able to smell the wine), about 2 minutes. Add butter mixture; cook, stirring often, until a smooth paste forms, about 2 minutes. Add broth and any reserved drippings and cook, stirring constantly, until combined and thickened, 6–8 minutes. Remove from heat and stir in miso. Taste and season with salt and black pepper.\\nServe chicken with gravy and squash panzanella alongside.'"
      ]
     },
     "execution_count": 14,
     "metadata": {},
     "output_type": "execute_result"
    }
   ],
   "source": [
    "documents[0]['Instructions']"
   ]
  },
  {
   "cell_type": "code",
   "execution_count": 15,
   "metadata": {},
   "outputs": [
    {
     "name": "stdout",
     "output_type": "stream",
     "text": [
      "Pat chicken dry with paper towels, season all over with 2 tsp. salt, and tie legs together with kitchen twine. Let sit at room temperature 1 hour.\n",
      "Meanwhile, halve squash and scoop out seeds. Run a vegetable peeler along ridges of squash halves to remove skin. Cut each half into ½\"-thick wedges; arrange on a rimmed baking sheet.\n",
      "Combine sage, rosemary, and 6 Tbsp. melted butter in a large bowl; pour half of mixture over squash on baking sheet. Sprinkle squash with allspice, red pepper flakes, and ½ tsp. salt and season with black pepper; toss to coat.\n",
      "Add bread, apples, oil, and ¼ tsp. salt to remaining herb butter in bowl; season with black pepper and toss to combine. Set aside.\n",
      "Place onion and vinegar in a small bowl; season with salt and toss to coat. Let sit, tossing occasionally, until ready to serve.\n",
      "Place a rack in middle and lower third of oven; preheat to 425°F. Mix miso and 3 Tbsp. room-temperature butter in a small bowl until smooth. Pat chicken dry with paper towels, then rub or brush all over with miso butter. Place chicken in a large cast-iron skillet and roast on middle rack until an instant-read thermometer inserted into the thickest part of breast registers 155°F, 50–60 minutes. (Temperature will climb to 165°F while chicken rests.) Let chicken rest in skillet at least 5 minutes, then transfer to a plate; reserve skillet.\n",
      "Meanwhile, roast squash on lower rack until mostly tender, about 25 minutes. Remove from oven and scatter reserved bread mixture over, spreading into as even a layer as you can manage. Return to oven and roast until bread is golden brown and crisp and apples are tender, about 15 minutes. Remove from oven, drain pickled onions, and toss to combine. Transfer to a serving dish.\n",
      "Using your fingers, mash flour and butter in a small bowl to combine.\n",
      "Set reserved skillet with chicken drippings over medium heat. You should have about ¼ cup, but a little over or under is all good. (If you have significantly more, drain off and set excess aside.) Add wine and cook, stirring often and scraping up any browned bits with a wooden spoon, until bits are loosened and wine is reduced by about half (you should be able to smell the wine), about 2 minutes. Add butter mixture; cook, stirring often, until a smooth paste forms, about 2 minutes. Add broth and any reserved drippings and cook, stirring constantly, until combined and thickened, 6–8 minutes. Remove from heat and stir in miso. Taste and season with salt and black pepper.\n",
      "Serve chicken with gravy and squash panzanella alongside.\n"
     ]
    }
   ],
   "source": [
    "print(_)"
   ]
  },
  {
   "cell_type": "code",
   "execution_count": 16,
   "metadata": {},
   "outputs": [],
   "source": [
    "# number of instructions\n",
    "Instructions_0 = documents[0]['Instructions'].split(\"\\n\")"
   ]
  },
  {
   "cell_type": "code",
   "execution_count": 17,
   "metadata": {},
   "outputs": [],
   "source": [
    "en_instr = [f\"{idx+1}. \\a  {elt}\\n\\n\"  for idx, elt in enumerate(Instructions_0)]"
   ]
  },
  {
   "cell_type": "code",
   "execution_count": 18,
   "metadata": {},
   "outputs": [
    {
     "data": {
      "text/plain": [
       "'1. \\x07  Pat chicken dry with paper towels, season all over with 2 tsp. salt, and tie legs together with kitchen twine. Let sit at room temperature 1 hour.\\n\\n2. \\x07  Meanwhile, halve squash and scoop out seeds. Run a vegetable peeler along ridges of squash halves to remove skin. Cut each half into ½\"-thick wedges; arrange on a rimmed baking sheet.\\n\\n3. \\x07  Combine sage, rosemary, and 6 Tbsp. melted butter in a large bowl; pour half of mixture over squash on baking sheet. Sprinkle squash with allspice, red pepper flakes, and ½ tsp. salt and season with black pepper; toss to coat.\\n\\n4. \\x07  Add bread, apples, oil, and ¼ tsp. salt to remaining herb butter in bowl; season with black pepper and toss to combine. Set aside.\\n\\n5. \\x07  Place onion and vinegar in a small bowl; season with salt and toss to coat. Let sit, tossing occasionally, until ready to serve.\\n\\n6. \\x07  Place a rack in middle and lower third of oven; preheat to 425°F. Mix miso and 3 Tbsp. room-temperature butter in a small bowl until smooth. Pat chicken dry with paper towels, then rub or brush all over with miso butter. Place chicken in a large cast-iron skillet and roast on middle rack until an instant-read thermometer inserted into the thickest part of breast registers 155°F, 50–60 minutes. (Temperature will climb to 165°F while chicken rests.) Let chicken rest in skillet at least 5 minutes, then transfer to a plate; reserve skillet.\\n\\n7. \\x07  Meanwhile, roast squash on lower rack until mostly tender, about 25 minutes. Remove from oven and scatter reserved bread mixture over, spreading into as even a layer as you can manage. Return to oven and roast until bread is golden brown and crisp and apples are tender, about 15 minutes. Remove from oven, drain pickled onions, and toss to combine. Transfer to a serving dish.\\n\\n8. \\x07  Using your fingers, mash flour and butter in a small bowl to combine.\\n\\n9. \\x07  Set reserved skillet with chicken drippings over medium heat. You should have about ¼ cup, but a little over or under is all good. (If you have significantly more, drain off and set excess aside.) Add wine and cook, stirring often and scraping up any browned bits with a wooden spoon, until bits are loosened and wine is reduced by about half (you should be able to smell the wine), about 2 minutes. Add butter mixture; cook, stirring often, until a smooth paste forms, about 2 minutes. Add broth and any reserved drippings and cook, stirring constantly, until combined and thickened, 6–8 minutes. Remove from heat and stir in miso. Taste and season with salt and black pepper.\\n\\n10. \\x07  Serve chicken with gravy and squash panzanella alongside.\\n\\n'"
      ]
     },
     "execution_count": 18,
     "metadata": {},
     "output_type": "execute_result"
    }
   ],
   "source": [
    "''.join(en_instr)"
   ]
  },
  {
   "cell_type": "code",
   "execution_count": 19,
   "metadata": {},
   "outputs": [
    {
     "name": "stdout",
     "output_type": "stream",
     "text": [
      "1. \u0007  Pat chicken dry with paper towels, season all over with 2 tsp. salt, and tie legs together with kitchen twine. Let sit at room temperature 1 hour.\n",
      "\n",
      "2. \u0007  Meanwhile, halve squash and scoop out seeds. Run a vegetable peeler along ridges of squash halves to remove skin. Cut each half into ½\"-thick wedges; arrange on a rimmed baking sheet.\n",
      "\n",
      "3. \u0007  Combine sage, rosemary, and 6 Tbsp. melted butter in a large bowl; pour half of mixture over squash on baking sheet. Sprinkle squash with allspice, red pepper flakes, and ½ tsp. salt and season with black pepper; toss to coat.\n",
      "\n",
      "4. \u0007  Add bread, apples, oil, and ¼ tsp. salt to remaining herb butter in bowl; season with black pepper and toss to combine. Set aside.\n",
      "\n",
      "5. \u0007  Place onion and vinegar in a small bowl; season with salt and toss to coat. Let sit, tossing occasionally, until ready to serve.\n",
      "\n",
      "6. \u0007  Place a rack in middle and lower third of oven; preheat to 425°F. Mix miso and 3 Tbsp. room-temperature butter in a small bowl until smooth. Pat chicken dry with paper towels, then rub or brush all over with miso butter. Place chicken in a large cast-iron skillet and roast on middle rack until an instant-read thermometer inserted into the thickest part of breast registers 155°F, 50–60 minutes. (Temperature will climb to 165°F while chicken rests.) Let chicken rest in skillet at least 5 minutes, then transfer to a plate; reserve skillet.\n",
      "\n",
      "7. \u0007  Meanwhile, roast squash on lower rack until mostly tender, about 25 minutes. Remove from oven and scatter reserved bread mixture over, spreading into as even a layer as you can manage. Return to oven and roast until bread is golden brown and crisp and apples are tender, about 15 minutes. Remove from oven, drain pickled onions, and toss to combine. Transfer to a serving dish.\n",
      "\n",
      "8. \u0007  Using your fingers, mash flour and butter in a small bowl to combine.\n",
      "\n",
      "9. \u0007  Set reserved skillet with chicken drippings over medium heat. You should have about ¼ cup, but a little over or under is all good. (If you have significantly more, drain off and set excess aside.) Add wine and cook, stirring often and scraping up any browned bits with a wooden spoon, until bits are loosened and wine is reduced by about half (you should be able to smell the wine), about 2 minutes. Add butter mixture; cook, stirring often, until a smooth paste forms, about 2 minutes. Add broth and any reserved drippings and cook, stirring constantly, until combined and thickened, 6–8 minutes. Remove from heat and stir in miso. Taste and season with salt and black pepper.\n",
      "\n",
      "10. \u0007  Serve chicken with gravy and squash panzanella alongside.\n",
      "\n",
      "\n"
     ]
    }
   ],
   "source": [
    "print(_)"
   ]
  },
  {
   "cell_type": "code",
   "execution_count": 20,
   "metadata": {},
   "outputs": [],
   "source": [
    "Ingredients_0 = documents[0]['Ingredients']"
   ]
  },
  {
   "cell_type": "code",
   "execution_count": 21,
   "metadata": {},
   "outputs": [
    {
     "data": {
      "text/plain": [
       "'[\\'1 (3½–4-lb.) whole chicken\\', \\'2¾ tsp. kosher salt, divided, plus more\\', \\'2 small acorn squash (about 3 lb. total)\\', \\'2 Tbsp. finely chopped sage\\', \\'1 Tbsp. finely chopped rosemary\\', \\'6 Tbsp. unsalted butter, melted, plus 3 Tbsp. room temperature\\', \\'¼ tsp. ground allspice\\', \\'Pinch of crushed red pepper flakes\\', \\'Freshly ground black pepper\\', \\'⅓ loaf good-quality sturdy white bread, torn into 1\" pieces (about 2½ cups)\\', \\'2 medium apples (such as Gala or Pink Lady; about 14 oz. total), cored, cut into 1\" pieces\\', \\'2 Tbsp. extra-virgin olive oil\\', \\'½ small red onion, thinly sliced\\', \\'3 Tbsp. apple cider vinegar\\', \\'1 Tbsp. white miso\\', \\'¼ cup all-purpose flour\\', \\'2 Tbsp. unsalted butter, room temperature\\', \\'¼ cup dry white wine\\', \\'2 cups unsalted chicken broth\\', \\'2 tsp. white miso\\', \\'Kosher salt, freshly ground pepper\\']'"
      ]
     },
     "execution_count": 21,
     "metadata": {},
     "output_type": "execute_result"
    }
   ],
   "source": [
    "Ingredients_0"
   ]
  },
  {
   "cell_type": "code",
   "execution_count": 22,
   "metadata": {},
   "outputs": [],
   "source": [
    "ingr_list = ast.literal_eval(Ingredients_0)"
   ]
  },
  {
   "cell_type": "code",
   "execution_count": 23,
   "metadata": {},
   "outputs": [
    {
     "data": {
      "text/plain": [
       "['1 (3½–4-lb.) whole chicken',\n",
       " '2¾ tsp. kosher salt, divided, plus more',\n",
       " '2 small acorn squash (about 3 lb. total)',\n",
       " '2 Tbsp. finely chopped sage',\n",
       " '1 Tbsp. finely chopped rosemary',\n",
       " '6 Tbsp. unsalted butter, melted, plus 3 Tbsp. room temperature',\n",
       " '¼ tsp. ground allspice',\n",
       " 'Pinch of crushed red pepper flakes',\n",
       " 'Freshly ground black pepper',\n",
       " '⅓ loaf good-quality sturdy white bread, torn into 1\" pieces (about 2½ cups)',\n",
       " '2 medium apples (such as Gala or Pink Lady; about 14 oz. total), cored, cut into 1\" pieces',\n",
       " '2 Tbsp. extra-virgin olive oil',\n",
       " '½ small red onion, thinly sliced',\n",
       " '3 Tbsp. apple cider vinegar',\n",
       " '1 Tbsp. white miso',\n",
       " '¼ cup all-purpose flour',\n",
       " '2 Tbsp. unsalted butter, room temperature',\n",
       " '¼ cup dry white wine',\n",
       " '2 cups unsalted chicken broth',\n",
       " '2 tsp. white miso',\n",
       " 'Kosher salt, freshly ground pepper']"
      ]
     },
     "execution_count": 23,
     "metadata": {},
     "output_type": "execute_result"
    }
   ],
   "source": [
    "ingr_list"
   ]
  },
  {
   "cell_type": "code",
   "execution_count": 24,
   "metadata": {},
   "outputs": [],
   "source": [
    "en_ingr = [f\"*\\b  {elt}\\n\"  for elt in ingr_list]"
   ]
  },
  {
   "cell_type": "code",
   "execution_count": 25,
   "metadata": {},
   "outputs": [
    {
     "data": {
      "text/plain": [
       "'*\\x08  1 (3½–4-lb.) whole chicken\\n*\\x08  2¾ tsp. kosher salt, divided, plus more\\n*\\x08  2 small acorn squash (about 3 lb. total)\\n*\\x08  2 Tbsp. finely chopped sage\\n*\\x08  1 Tbsp. finely chopped rosemary\\n*\\x08  6 Tbsp. unsalted butter, melted, plus 3 Tbsp. room temperature\\n*\\x08  ¼ tsp. ground allspice\\n*\\x08  Pinch of crushed red pepper flakes\\n*\\x08  Freshly ground black pepper\\n*\\x08  ⅓ loaf good-quality sturdy white bread, torn into 1\" pieces (about 2½ cups)\\n*\\x08  2 medium apples (such as Gala or Pink Lady; about 14 oz. total), cored, cut into 1\" pieces\\n*\\x08  2 Tbsp. extra-virgin olive oil\\n*\\x08  ½ small red onion, thinly sliced\\n*\\x08  3 Tbsp. apple cider vinegar\\n*\\x08  1 Tbsp. white miso\\n*\\x08  ¼ cup all-purpose flour\\n*\\x08  2 Tbsp. unsalted butter, room temperature\\n*\\x08  ¼ cup dry white wine\\n*\\x08  2 cups unsalted chicken broth\\n*\\x08  2 tsp. white miso\\n*\\x08  Kosher salt, freshly ground pepper\\n'"
      ]
     },
     "execution_count": 25,
     "metadata": {},
     "output_type": "execute_result"
    }
   ],
   "source": [
    "''.join(en_ingr)"
   ]
  },
  {
   "cell_type": "code",
   "execution_count": 26,
   "metadata": {},
   "outputs": [
    {
     "name": "stdout",
     "output_type": "stream",
     "text": [
      "  1 (3½–4-lb.) whole chicken\n",
      "  2¾ tsp. kosher salt, divided, plus more\n",
      "  2 small acorn squash (about 3 lb. total)\n",
      "  2 Tbsp. finely chopped sage\n",
      "  1 Tbsp. finely chopped rosemary\n",
      "  6 Tbsp. unsalted butter, melted, plus 3 Tbsp. room temperature\n",
      "  ¼ tsp. ground allspice\n",
      "  Pinch of crushed red pepper flakes\n",
      "  Freshly ground black pepper\n",
      "  ⅓ loaf good-quality sturdy white bread, torn into 1\" pieces (about 2½ cups)\n",
      "  2 medium apples (such as Gala or Pink Lady; about 14 oz. total), cored, cut into 1\" pieces\n",
      "  2 Tbsp. extra-virgin olive oil\n",
      "  ½ small red onion, thinly sliced\n",
      "  3 Tbsp. apple cider vinegar\n",
      "  1 Tbsp. white miso\n",
      "  ¼ cup all-purpose flour\n",
      "  2 Tbsp. unsalted butter, room temperature\n",
      "  ¼ cup dry white wine\n",
      "  2 cups unsalted chicken broth\n",
      "  2 tsp. white miso\n",
      "  Kosher salt, freshly ground pepper\n",
      "\n"
     ]
    }
   ],
   "source": [
    "print(_)"
   ]
  },
  {
   "cell_type": "code",
   "execution_count": 27,
   "metadata": {},
   "outputs": [],
   "source": [
    "def clean_instructions(instr: str):\n",
    "    if instr != \"nan\":\n",
    "\n",
    "        # inst_s = instr.split(\"\\n\")\n",
    "        # en_instr = [f\"{idx+1}. \\a  {elt}\\n\\n\"  for idx, elt in enumerate(inst_s)]\n",
    "        # return ''.join(en_instr)\n",
    "        return instr\n",
    "    else:\n",
    "        return \" \""
   ]
  },
  {
   "cell_type": "code",
   "execution_count": 28,
   "metadata": {},
   "outputs": [],
   "source": [
    "def clean_ingredients(ingr: str):\n",
    "    if ingr != \"nan\":\n",
    "        # ingr_list = ast.literal_eval(ingr)\n",
    "        # en_ingr = [f\"*\\b  {elt}\\n\"  for elt in ingr_list]\n",
    "        # return ''.join(en_ingr)\n",
    "        return ingr\n",
    "    else:\n",
    "        return \" \""
   ]
  },
  {
   "cell_type": "code",
   "execution_count": 29,
   "metadata": {},
   "outputs": [],
   "source": [
    "def clean_title(ingr: str):\n",
    "    if ingr == \"nan\":\n",
    "        return \" \"\n",
    "    else:\n",
    "        return ingr"
   ]
  },
  {
   "cell_type": "code",
   "execution_count": 30,
   "metadata": {},
   "outputs": [],
   "source": [
    "data = pd.DataFrame()"
   ]
  },
  {
   "cell_type": "code",
   "execution_count": 31,
   "metadata": {},
   "outputs": [],
   "source": [
    "df['Title'] = df['Title'].astype(str)\n",
    "df['Ingredients'] = df['Ingredients'].astype(str)\n",
    "df['Instructions'] = df['Instructions'].astype(str)\n",
    "df['Image_Name'] = df['Image_Name'].astype(str)\n",
    "df['Cleaned_Ingredients'] = df['Cleaned_Ingredients'].astype(str)"
   ]
  },
  {
   "cell_type": "code",
   "execution_count": 32,
   "metadata": {},
   "outputs": [
    {
     "data": {
      "text/plain": [
       "11221    nan\n",
       "12373    nan\n",
       "12378    nan\n",
       "12818    nan\n",
       "12829    nan\n",
       "Name: Title, dtype: object"
      ]
     },
     "execution_count": 32,
     "metadata": {},
     "output_type": "execute_result"
    }
   ],
   "source": [
    "df.loc[df['Title']=='nan','Title']"
   ]
  },
  {
   "cell_type": "code",
   "execution_count": 33,
   "metadata": {},
   "outputs": [
    {
     "data": {
      "text/plain": [
       "RangeIndex(start=0, stop=13501, step=1)"
      ]
     },
     "execution_count": 33,
     "metadata": {},
     "output_type": "execute_result"
    }
   ],
   "source": [
    "df.index"
   ]
  },
  {
   "cell_type": "code",
   "execution_count": 34,
   "metadata": {},
   "outputs": [],
   "source": [
    "data['Id'] = df.index + 1\n",
    "data['Title'] = df['Title'].apply(clean_title)\n",
    "data['Instructions'] = df['Instructions'].apply(clean_instructions)\n",
    "data['Ingredients'] = df['Ingredients'].apply(clean_ingredients)\n",
    "data['Cleaned_Ingredients'] = df['Cleaned_Ingredients'].apply(clean_ingredients)\n",
    "data['Image_Name'] = df['Image_Name']"
   ]
  },
  {
   "cell_type": "code",
   "execution_count": 35,
   "metadata": {},
   "outputs": [
    {
     "data": {
      "text/plain": [
       "Id                                                                  5700\n",
       "Title                                    To Form \"Water Caltrop\" Wontons\n",
       "Instructions           If you are right-handed, lay a wonton wrapper ...\n",
       "Ingredients                                                             \n",
       "Cleaned_Ingredients                                                     \n",
       "Image_Name                        to-form-water-caltrop-wontons-51147800\n",
       "Name: 5699, dtype: object"
      ]
     },
     "execution_count": 35,
     "metadata": {},
     "output_type": "execute_result"
    }
   ],
   "source": [
    "data.iloc[5699]"
   ]
  },
  {
   "cell_type": "code",
   "execution_count": 36,
   "metadata": {},
   "outputs": [],
   "source": [
    "data.to_csv('data/c_data.csv', index=False)"
   ]
  }
 ],
 "metadata": {
  "kernelspec": {
   "display_name": "llm_zoomcamp",
   "language": "python",
   "name": "llm_zoomcamp"
  },
  "language_info": {
   "codemirror_mode": {
    "name": "ipython",
    "version": 3
   },
   "file_extension": ".py",
   "mimetype": "text/x-python",
   "name": "python",
   "nbconvert_exporter": "python",
   "pygments_lexer": "ipython3",
   "version": "3.10.13"
  }
 },
 "nbformat": 4,
 "nbformat_minor": 2
}
